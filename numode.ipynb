{
 "cells": [
  {
   "cell_type": "markdown",
   "metadata": {},
   "source": [
    "<h3> We use numpy for math operations and matplotlib for plotting our functions/points. </h3>"
   ]
  },
  {
   "cell_type": "code",
   "execution_count": 4,
   "metadata": {},
   "outputs": [],
   "source": [
    "import numpy as np \n",
    "import matplotlib.pyplot as plt "
   ]
  },
  {
   "cell_type": "markdown",
   "metadata": {},
   "source": [
    "<h3> Euler's method: first order Runge-Kutta method. f is the function, a is the starting point, b is the final point, h is the step size, and y_0 is the initial value. </h3>"
   ]
  },
  {
   "cell_type": "code",
   "execution_count": 5,
   "metadata": {},
   "outputs": [],
   "source": [
    "def eulerdiff(f,a,b,h,y_0):\n",
    "    \n",
    "    x = np.arange(a,b,h)\n",
    "    y_list = []\n",
    "    \n",
    "    for i in x:\n",
    "        \n",
    "        y_0 = y_0 + h*f(i,y_0)\n",
    "        \n",
    "        y_list.append(y_0)\n",
    "        \n",
    "    return x, y_list"
   ]
  },
  {
   "cell_type": "markdown",
   "metadata": {},
   "source": [
    "<h3> Heun's method (second order Runge-Kutta method): </h3>"
   ]
  },
  {
   "cell_type": "code",
   "execution_count": 6,
   "metadata": {},
   "outputs": [],
   "source": [
    "def heunsdiff(f,a,b,h,y_0):\n",
    "    \n",
    "    x = np.arange(a,b,h)\n",
    "    y_list = []\n",
    "    \n",
    "    for i in x:\n",
    "        \n",
    "        k1 = h*f(i,y_0)\n",
    "        \n",
    "        k2 = h*f(i+h,y_0+(k1*h))\n",
    "        \n",
    "        y_0 = y_0 + (1/2)*(k1 + k2)\n",
    "        \n",
    "        y_list.append(y_0)\n",
    "\n",
    "    return x, y_list"
   ]
  },
  {
   "cell_type": "markdown",
   "metadata": {},
   "source": [
    "<h3>Fourth order Runge-Kutta: </h3>"
   ]
  },
  {
   "cell_type": "code",
   "execution_count": 7,
   "metadata": {},
   "outputs": [],
   "source": [
    "def RK4diff(f,a,b,h,y_0):\n",
    "    \n",
    "    x = np.arange(a,b,h)\n",
    "    y_list = []\n",
    "\n",
    "    for i in x:\n",
    "        \n",
    "        k1 = h*f(i,y_0)\n",
    "        \n",
    "        k2 = h*f(i+h/2,y_0+(k1*h/2))\n",
    "        \n",
    "        k3 = h*f(i+h/2,y_0+(k2*h/2))\n",
    "    \n",
    "        k4 = h*f(i+h,y_0+(k3*h))\n",
    "        \n",
    "        y_0 = y_0 + (1/6)*(k1 + 2*k2 + 2*k3 +k4)\n",
    "        \n",
    "        y_list.append(y_0)\n",
    "        \n",
    "    return x, y_list\n"
   ]
  },
  {
   "cell_type": "markdown",
   "metadata": {},
   "source": [
    "<h3> Our test function is <br/> <br/>\n",
    "$ \n",
    "\\begin{equation}\n",
    "\\frac{dy}{dt} = -y^2\\cos(x) \n",
    "\\end{equation} $\n",
    "<br/>\n",
    "</h3>"
   ]
  },
  {
   "cell_type": "code",
   "execution_count": 8,
   "metadata": {},
   "outputs": [],
   "source": [
    "f = lambda x,y: -(y**2)*np.cos(x)"
   ]
  },
  {
   "cell_type": "markdown",
   "metadata": {},
   "source": [
    "<h3> (x1,y1), (x2,y2), (x3,y3), (xt,yt) corresponds to the solution via Euler's Method, Heun's Method, Fourth Order Runge-Kutta, and the analytic solution $y = \\frac{1}{\\sin(x)+1}$, respectively. </h3> "
   ]
  },
  {
   "cell_type": "code",
   "execution_count": 9,
   "metadata": {},
   "outputs": [],
   "source": [
    "points1 = eulerdiff(f,0,30,0.001,1)\n",
    "x1 = points1[0]\n",
    "y1 = points1[1]\n",
    "\n",
    "points2 = heunsdiff(f,0,30,0.001,1)\n",
    "x2 = points2[0]\n",
    "y2 = points2[1]\n",
    "\n",
    "\n",
    "points3 = RK4diff(f,0,30,0.001,1)\n",
    "x3 = points3[0]\n",
    "y3 = points3[1]\n",
    "\n",
    "x_t = np.linspace(0,50,num = 1000)\n",
    "y_t = 1/(np.sin(x_t)+1)"
   ]
  },
  {
   "cell_type": "markdown",
   "metadata": {},
   "source": [
    "<h3> We compare the 3 methods by plotting the generated numerical solutions. </h3>   "
   ]
  },
  {
   "cell_type": "code",
   "execution_count": 10,
   "metadata": {},
   "outputs": [
    {
     "data": {
      "text/plain": [
       "<function matplotlib.pyplot.show(*args, **kw)>"
      ]
     },
     "execution_count": 10,
     "metadata": {},
     "output_type": "execute_result"
    },
    {
     "data": {
      "image/png": "[encoded data removed]",
      "text/plain": [
       "<Figure size 432x288 with 1 Axes>"
      ]
     },
     "metadata": {
      "needs_background": "light"
     },
     "output_type": "display_data"
    }
   ],
   "source": [
    "plt.ylim(0,100) \n",
    "plt.xlim(0,30)    \n",
    "\n",
    "\n",
    "plt.plot(x1,y1,\n",
    "         color = 'red',\n",
    "         label = 'Euler',\n",
    "         marker = ',',\n",
    "         linewidth = 3) \n",
    "\n",
    "plt.plot(x2,y2,\n",
    "         color = 'blue',\n",
    "         label = 'Heun',\n",
    "         marker = ',',\n",
    "         linewidth = 2) \n",
    "\n",
    "\n",
    "plt.plot(x3,y3,\n",
    "         color = 'green',\n",
    "         label = 'RK4',\n",
    "         marker = ',',\n",
    "         linewidth = 1) \n",
    "\n",
    "\n",
    "plt.plot(x_t,y_t,\n",
    "         color = 'black',\n",
    "         label = 'Analytic Solution',\n",
    "         marker = ',',\n",
    "         linewidth = 1) \n",
    "\n",
    "plt.legend(loc='upper right')\n",
    "\n",
    "plt.show"
   ]
  },
  {
   "cell_type": "code",
   "execution_count": null,
   "metadata": {},
   "outputs": [],
   "source": []
  }
 ],
 "metadata": {
  "kernelspec": {
   "display_name": "Python 3",
   "language": "python",
   "name": "python3"
  },
  "language_info": {
   "codemirror_mode": {
    "name": "ipython",
    "version": 3
   },
   "file_extension": ".py",
   "mimetype": "text/x-python",
   "name": "python",
   "nbconvert_exporter": "python",
   "pygments_lexer": "ipython3",
   "version": "3.7.6"
  }
 },
 "nbformat": 4,
 "nbformat_minor": 4
}
